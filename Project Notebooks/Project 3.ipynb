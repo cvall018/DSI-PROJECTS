{
 "cells": [
  {
   "cell_type": "markdown",
   "metadata": {},
   "source": [
    "# Getting started\n",
    "\n",
    "Once you've chosen your scenario, download the data from [the Iowa website](https://data.iowa.gov/Economy/Iowa-Liquor-Sales/m3tr-qhgy) in csv format. Start by loading the data with pandas. You may need to parse the date columns appropriately."
   ]
  },
  {
   "cell_type": "code",
   "execution_count": 2,
   "metadata": {
    "collapsed": false
   },
   "outputs": [],
   "source": [
    "import pandas as pd\n",
    "import numpy as np\n",
    "import math\n",
    "import matplotlib.pyplot as plt\n",
    "import matplotlib\n",
    "import seaborn as sns\n",
    "matplotlib.style.use('ggplot')\n",
    "% matplotlib inline\n",
    "## Load the data into a DataFrame\n",
    "df = pd.read_csv(\"../Assets/Project3/Iowa_Liquor_sales_sample_10pct.csv\")\n",
    "## Transform the dates if needed, e.g.\n",
    "df[\"Date\"] = pd.to_datetime(df[\"Date\"], format=\"%m/%d/%Y\")\n"
   ]
  },
  {
   "cell_type": "code",
   "execution_count": 3,
   "metadata": {
    "collapsed": false
   },
   "outputs": [
    {
     "data": {
      "text/html": [
       "<div>\n",
       "<table border=\"1\" class=\"dataframe\">\n",
       "  <thead>\n",
       "    <tr style=\"text-align: right;\">\n",
       "      <th></th>\n",
       "      <th>Date</th>\n",
       "      <th>Store Number</th>\n",
       "      <th>City</th>\n",
       "      <th>Zip Code</th>\n",
       "      <th>County Number</th>\n",
       "      <th>County</th>\n",
       "      <th>Category</th>\n",
       "      <th>Category Name</th>\n",
       "      <th>Vendor Number</th>\n",
       "      <th>Item Number</th>\n",
       "      <th>Item Description</th>\n",
       "      <th>Bottle Volume (ml)</th>\n",
       "      <th>State Bottle Cost</th>\n",
       "      <th>State Bottle Retail</th>\n",
       "      <th>Bottles Sold</th>\n",
       "      <th>Sale (Dollars)</th>\n",
       "      <th>Volume Sold (Liters)</th>\n",
       "      <th>Volume Sold (Gallons)</th>\n",
       "    </tr>\n",
       "  </thead>\n",
       "  <tbody>\n",
       "    <tr>\n",
       "      <th>0</th>\n",
       "      <td>2015-11-04</td>\n",
       "      <td>3717</td>\n",
       "      <td>SUMNER</td>\n",
       "      <td>50674</td>\n",
       "      <td>9.0</td>\n",
       "      <td>Bremer</td>\n",
       "      <td>1051100.0</td>\n",
       "      <td>APRICOT BRANDIES</td>\n",
       "      <td>55</td>\n",
       "      <td>54436</td>\n",
       "      <td>Mr. Boston Apricot Brandy</td>\n",
       "      <td>750</td>\n",
       "      <td>$4.50</td>\n",
       "      <td>$6.75</td>\n",
       "      <td>12</td>\n",
       "      <td>$81.00</td>\n",
       "      <td>9.0</td>\n",
       "      <td>2.38</td>\n",
       "    </tr>\n",
       "    <tr>\n",
       "      <th>1</th>\n",
       "      <td>2016-03-02</td>\n",
       "      <td>2614</td>\n",
       "      <td>DAVENPORT</td>\n",
       "      <td>52807</td>\n",
       "      <td>82.0</td>\n",
       "      <td>Scott</td>\n",
       "      <td>1011100.0</td>\n",
       "      <td>BLENDED WHISKIES</td>\n",
       "      <td>395</td>\n",
       "      <td>27605</td>\n",
       "      <td>Tin Cup</td>\n",
       "      <td>750</td>\n",
       "      <td>$13.75</td>\n",
       "      <td>$20.63</td>\n",
       "      <td>2</td>\n",
       "      <td>$41.26</td>\n",
       "      <td>1.5</td>\n",
       "      <td>0.40</td>\n",
       "    </tr>\n",
       "    <tr>\n",
       "      <th>2</th>\n",
       "      <td>2016-02-11</td>\n",
       "      <td>2106</td>\n",
       "      <td>CEDAR FALLS</td>\n",
       "      <td>50613</td>\n",
       "      <td>7.0</td>\n",
       "      <td>Black Hawk</td>\n",
       "      <td>1011200.0</td>\n",
       "      <td>STRAIGHT BOURBON WHISKIES</td>\n",
       "      <td>65</td>\n",
       "      <td>19067</td>\n",
       "      <td>Jim Beam</td>\n",
       "      <td>1000</td>\n",
       "      <td>$12.59</td>\n",
       "      <td>$18.89</td>\n",
       "      <td>24</td>\n",
       "      <td>$453.36</td>\n",
       "      <td>24.0</td>\n",
       "      <td>6.34</td>\n",
       "    </tr>\n",
       "    <tr>\n",
       "      <th>3</th>\n",
       "      <td>2016-02-03</td>\n",
       "      <td>2501</td>\n",
       "      <td>AMES</td>\n",
       "      <td>50010</td>\n",
       "      <td>85.0</td>\n",
       "      <td>Story</td>\n",
       "      <td>1071100.0</td>\n",
       "      <td>AMERICAN COCKTAILS</td>\n",
       "      <td>395</td>\n",
       "      <td>59154</td>\n",
       "      <td>1800 Ultimate Margarita</td>\n",
       "      <td>1750</td>\n",
       "      <td>$9.50</td>\n",
       "      <td>$14.25</td>\n",
       "      <td>6</td>\n",
       "      <td>$85.50</td>\n",
       "      <td>10.5</td>\n",
       "      <td>2.77</td>\n",
       "    </tr>\n",
       "    <tr>\n",
       "      <th>4</th>\n",
       "      <td>2015-08-18</td>\n",
       "      <td>3654</td>\n",
       "      <td>BELMOND</td>\n",
       "      <td>50421</td>\n",
       "      <td>99.0</td>\n",
       "      <td>Wright</td>\n",
       "      <td>1031080.0</td>\n",
       "      <td>VODKA 80 PROOF</td>\n",
       "      <td>297</td>\n",
       "      <td>35918</td>\n",
       "      <td>Five O'clock Vodka</td>\n",
       "      <td>1750</td>\n",
       "      <td>$7.20</td>\n",
       "      <td>$10.80</td>\n",
       "      <td>12</td>\n",
       "      <td>$129.60</td>\n",
       "      <td>21.0</td>\n",
       "      <td>5.55</td>\n",
       "    </tr>\n",
       "  </tbody>\n",
       "</table>\n",
       "</div>"
      ],
      "text/plain": [
       "        Date  Store Number         City Zip Code  County Number      County  \\\n",
       "0 2015-11-04          3717       SUMNER    50674            9.0      Bremer   \n",
       "1 2016-03-02          2614    DAVENPORT    52807           82.0       Scott   \n",
       "2 2016-02-11          2106  CEDAR FALLS    50613            7.0  Black Hawk   \n",
       "3 2016-02-03          2501         AMES    50010           85.0       Story   \n",
       "4 2015-08-18          3654      BELMOND    50421           99.0      Wright   \n",
       "\n",
       "    Category              Category Name  Vendor Number  Item Number  \\\n",
       "0  1051100.0           APRICOT BRANDIES             55        54436   \n",
       "1  1011100.0           BLENDED WHISKIES            395        27605   \n",
       "2  1011200.0  STRAIGHT BOURBON WHISKIES             65        19067   \n",
       "3  1071100.0         AMERICAN COCKTAILS            395        59154   \n",
       "4  1031080.0             VODKA 80 PROOF            297        35918   \n",
       "\n",
       "            Item Description  Bottle Volume (ml) State Bottle Cost  \\\n",
       "0  Mr. Boston Apricot Brandy                 750             $4.50   \n",
       "1                    Tin Cup                 750            $13.75   \n",
       "2                   Jim Beam                1000            $12.59   \n",
       "3    1800 Ultimate Margarita                1750             $9.50   \n",
       "4         Five O'clock Vodka                1750             $7.20   \n",
       "\n",
       "  State Bottle Retail  Bottles Sold Sale (Dollars)  Volume Sold (Liters)  \\\n",
       "0               $6.75            12         $81.00                   9.0   \n",
       "1              $20.63             2         $41.26                   1.5   \n",
       "2              $18.89            24        $453.36                  24.0   \n",
       "3              $14.25             6         $85.50                  10.5   \n",
       "4              $10.80            12        $129.60                  21.0   \n",
       "\n",
       "   Volume Sold (Gallons)  \n",
       "0                   2.38  \n",
       "1                   0.40  \n",
       "2                   6.34  \n",
       "3                   2.77  \n",
       "4                   5.55  "
      ]
     },
     "execution_count": 3,
     "metadata": {},
     "output_type": "execute_result"
    }
   ],
   "source": [
    "df.head(5)"
   ]
  },
  {
   "cell_type": "markdown",
   "metadata": {},
   "source": [
    "# Explore the data\n",
    "\n",
    "Perform some exploratory statistical analysis and make some plots, such as histograms of transaction totals, bottles sold, etc."
   ]
  },
  {
   "cell_type": "code",
   "execution_count": 4,
   "metadata": {
    "collapsed": false
   },
   "outputs": [
    {
     "name": "stdout",
     "output_type": "stream",
     "text": [
      "The data set contains: 270955 rows and 18 columns\n"
     ]
    },
    {
     "data": {
      "text/plain": [
       "Index([u'Date', u'Store Number', u'City', u'Zip Code', u'County Number',\n",
       "       u'County', u'Category', u'Category Name', u'Vendor Number',\n",
       "       u'Item Number', u'Item Description', u'Bottle Volume (ml)',\n",
       "       u'State Bottle Cost', u'State Bottle Retail', u'Bottles Sold',\n",
       "       u'Sale (Dollars)', u'Volume Sold (Liters)', u'Volume Sold (Gallons)'],\n",
       "      dtype='object')"
      ]
     },
     "execution_count": 4,
     "metadata": {},
     "output_type": "execute_result"
    }
   ],
   "source": [
    "print 'The data set contains: %r rows and %r columns' % (df.shape[0],df.shape[1])\n",
    "df.columns"
   ]
  },
  {
   "cell_type": "code",
   "execution_count": 5,
   "metadata": {
    "collapsed": false
   },
   "outputs": [
    {
     "data": {
      "text/plain": [
       "Date                     datetime64[ns]\n",
       "Store Number                      int64\n",
       "City                             object\n",
       "Zip Code                         object\n",
       "County Number                   float64\n",
       "County                           object\n",
       "Category                        float64\n",
       "Category Name                    object\n",
       "Vendor Number                     int64\n",
       "Item Number                       int64\n",
       "Item Description                 object\n",
       "Bottle Volume (ml)                int64\n",
       "State Bottle Cost                object\n",
       "State Bottle Retail              object\n",
       "Bottles Sold                      int64\n",
       "Sale (Dollars)                   object\n",
       "Volume Sold (Liters)            float64\n",
       "Volume Sold (Gallons)           float64\n",
       "dtype: object"
      ]
     },
     "execution_count": 5,
     "metadata": {},
     "output_type": "execute_result"
    }
   ],
   "source": [
    "df.dtypes"
   ]
  },
  {
   "cell_type": "markdown",
   "metadata": {},
   "source": [
    "The output shows us that we're working with a set of 270k records and 18 columns. Several of the column variables are encoded as numeric data types (int64 and float64) but a few of them are encoded as \"object\". Of those enconded as \"object\", State Bottle Cost and Retail as well as Sale (Dollars) should be transformed into \"float64\" type."
   ]
  },
  {
   "cell_type": "code",
   "execution_count": 6,
   "metadata": {
    "collapsed": false
   },
   "outputs": [],
   "source": [
    "df[u'State Bottle Cost'] = df[u'State Bottle Cost'].apply(lambda x: x.lstrip('$'))\n",
    "df[u'State Bottle Retail'] = df[u'State Bottle Retail'].apply(lambda x: x.lstrip('$'))\n",
    "df[u'Sale (Dollars)'] = df[u'Sale (Dollars)'].apply(lambda x: x.lstrip('$'))\n",
    "df[u'State Bottle Cost'] = df[u'State Bottle Cost'].apply(lambda x: float(x))\n",
    "df[u'State Bottle Retail'] = df[u'State Bottle Retail'].apply(lambda x: float(x))\n",
    "df[u'Sale (Dollars)'] = df[u'Sale (Dollars)'].apply(lambda x: float(x))"
   ]
  },
  {
   "cell_type": "code",
   "execution_count": 7,
   "metadata": {
    "collapsed": false
   },
   "outputs": [],
   "source": [
    "# There are some null values which are going to be dropped\n",
    "df.isnull().any()\n",
    "df=df.dropna()"
   ]
  },
  {
   "cell_type": "code",
   "execution_count": 8,
   "metadata": {
    "collapsed": false
   },
   "outputs": [
    {
     "data": {
      "text/html": [
       "<div>\n",
       "<table border=\"1\" class=\"dataframe\">\n",
       "  <thead>\n",
       "    <tr style=\"text-align: right;\">\n",
       "      <th></th>\n",
       "      <th>City</th>\n",
       "      <th>Zip Code</th>\n",
       "      <th>County</th>\n",
       "      <th>Category Name</th>\n",
       "      <th>Item Description</th>\n",
       "    </tr>\n",
       "  </thead>\n",
       "  <tbody>\n",
       "    <tr>\n",
       "      <th>count</th>\n",
       "      <td>269258</td>\n",
       "      <td>269258</td>\n",
       "      <td>269258</td>\n",
       "      <td>269258</td>\n",
       "      <td>269258</td>\n",
       "    </tr>\n",
       "    <tr>\n",
       "      <th>unique</th>\n",
       "      <td>382</td>\n",
       "      <td>412</td>\n",
       "      <td>99</td>\n",
       "      <td>71</td>\n",
       "      <td>2158</td>\n",
       "    </tr>\n",
       "    <tr>\n",
       "      <th>top</th>\n",
       "      <td>DES MOINES</td>\n",
       "      <td>50010</td>\n",
       "      <td>Polk</td>\n",
       "      <td>VODKA 80 PROOF</td>\n",
       "      <td>Black Velvet</td>\n",
       "    </tr>\n",
       "    <tr>\n",
       "      <th>freq</th>\n",
       "      <td>23618</td>\n",
       "      <td>7077</td>\n",
       "      <td>48944</td>\n",
       "      <td>35256</td>\n",
       "      <td>7208</td>\n",
       "    </tr>\n",
       "  </tbody>\n",
       "</table>\n",
       "</div>"
      ],
      "text/plain": [
       "              City Zip Code  County   Category Name Item Description\n",
       "count       269258   269258  269258          269258           269258\n",
       "unique         382      412      99              71             2158\n",
       "top     DES MOINES    50010    Polk  VODKA 80 PROOF     Black Velvet\n",
       "freq         23618     7077   48944           35256             7208"
      ]
     },
     "execution_count": 8,
     "metadata": {},
     "output_type": "execute_result"
    }
   ],
   "source": [
    "categorical = df.dtypes[df.dtypes == \"object\"].index\n",
    "df[categorical].describe()"
   ]
  },
  {
   "cell_type": "code",
   "execution_count": 9,
   "metadata": {
    "collapsed": false
   },
   "outputs": [
    {
     "data": {
      "text/html": [
       "<div>\n",
       "<table border=\"1\" class=\"dataframe\">\n",
       "  <thead>\n",
       "    <tr style=\"text-align: right;\">\n",
       "      <th></th>\n",
       "      <th>Store Number</th>\n",
       "      <th>County Number</th>\n",
       "      <th>Category</th>\n",
       "      <th>Vendor Number</th>\n",
       "      <th>Item Number</th>\n",
       "      <th>Bottle Volume (ml)</th>\n",
       "      <th>State Bottle Cost</th>\n",
       "      <th>State Bottle Retail</th>\n",
       "      <th>Bottles Sold</th>\n",
       "      <th>Sale (Dollars)</th>\n",
       "      <th>Volume Sold (Liters)</th>\n",
       "      <th>Volume Sold (Gallons)</th>\n",
       "    </tr>\n",
       "  </thead>\n",
       "  <tbody>\n",
       "    <tr>\n",
       "      <th>count</th>\n",
       "      <td>269258.000000</td>\n",
       "      <td>269258.000000</td>\n",
       "      <td>2.692580e+05</td>\n",
       "      <td>269258.00000</td>\n",
       "      <td>269258.000000</td>\n",
       "      <td>269258.000000</td>\n",
       "      <td>269258.000000</td>\n",
       "      <td>269258.000000</td>\n",
       "      <td>269258.000000</td>\n",
       "      <td>269258.000000</td>\n",
       "      <td>269258.000000</td>\n",
       "      <td>269258.000000</td>\n",
       "    </tr>\n",
       "    <tr>\n",
       "      <th>mean</th>\n",
       "      <td>3587.695311</td>\n",
       "      <td>57.229642</td>\n",
       "      <td>1.043866e+06</td>\n",
       "      <td>256.36045</td>\n",
       "      <td>45944.813164</td>\n",
       "      <td>925.217375</td>\n",
       "      <td>9.763293</td>\n",
       "      <td>14.660848</td>\n",
       "      <td>9.874028</td>\n",
       "      <td>128.828546</td>\n",
       "      <td>8.991069</td>\n",
       "      <td>2.375397</td>\n",
       "    </tr>\n",
       "    <tr>\n",
       "      <th>std</th>\n",
       "      <td>946.505088</td>\n",
       "      <td>27.338810</td>\n",
       "      <td>5.021834e+04</td>\n",
       "      <td>140.98313</td>\n",
       "      <td>52557.185155</td>\n",
       "      <td>492.837459</td>\n",
       "      <td>7.039787</td>\n",
       "      <td>10.559164</td>\n",
       "      <td>24.072335</td>\n",
       "      <td>383.477046</td>\n",
       "      <td>28.963204</td>\n",
       "      <td>7.651262</td>\n",
       "    </tr>\n",
       "    <tr>\n",
       "      <th>min</th>\n",
       "      <td>2106.000000</td>\n",
       "      <td>1.000000</td>\n",
       "      <td>1.011100e+06</td>\n",
       "      <td>10.00000</td>\n",
       "      <td>168.000000</td>\n",
       "      <td>50.000000</td>\n",
       "      <td>0.890000</td>\n",
       "      <td>1.340000</td>\n",
       "      <td>1.000000</td>\n",
       "      <td>1.340000</td>\n",
       "      <td>0.100000</td>\n",
       "      <td>0.030000</td>\n",
       "    </tr>\n",
       "    <tr>\n",
       "      <th>25%</th>\n",
       "      <td>2604.000000</td>\n",
       "      <td>31.000000</td>\n",
       "      <td>1.012200e+06</td>\n",
       "      <td>115.00000</td>\n",
       "      <td>26827.000000</td>\n",
       "      <td>750.000000</td>\n",
       "      <td>5.500000</td>\n",
       "      <td>8.250000</td>\n",
       "      <td>2.000000</td>\n",
       "      <td>30.420000</td>\n",
       "      <td>1.500000</td>\n",
       "      <td>0.400000</td>\n",
       "    </tr>\n",
       "    <tr>\n",
       "      <th>50%</th>\n",
       "      <td>3721.000000</td>\n",
       "      <td>62.000000</td>\n",
       "      <td>1.031200e+06</td>\n",
       "      <td>260.00000</td>\n",
       "      <td>38176.000000</td>\n",
       "      <td>750.000000</td>\n",
       "      <td>8.000000</td>\n",
       "      <td>12.110000</td>\n",
       "      <td>6.000000</td>\n",
       "      <td>70.560000</td>\n",
       "      <td>5.250000</td>\n",
       "      <td>1.390000</td>\n",
       "    </tr>\n",
       "    <tr>\n",
       "      <th>75%</th>\n",
       "      <td>4376.000000</td>\n",
       "      <td>77.000000</td>\n",
       "      <td>1.062310e+06</td>\n",
       "      <td>380.00000</td>\n",
       "      <td>64573.000000</td>\n",
       "      <td>1000.000000</td>\n",
       "      <td>11.920000</td>\n",
       "      <td>17.880000</td>\n",
       "      <td>12.000000</td>\n",
       "      <td>135.000000</td>\n",
       "      <td>10.500000</td>\n",
       "      <td>2.770000</td>\n",
       "    </tr>\n",
       "    <tr>\n",
       "      <th>max</th>\n",
       "      <td>9023.000000</td>\n",
       "      <td>99.000000</td>\n",
       "      <td>1.701100e+06</td>\n",
       "      <td>978.00000</td>\n",
       "      <td>995507.000000</td>\n",
       "      <td>6000.000000</td>\n",
       "      <td>425.000000</td>\n",
       "      <td>637.500000</td>\n",
       "      <td>2508.000000</td>\n",
       "      <td>36392.400000</td>\n",
       "      <td>2508.000000</td>\n",
       "      <td>662.540000</td>\n",
       "    </tr>\n",
       "  </tbody>\n",
       "</table>\n",
       "</div>"
      ],
      "text/plain": [
       "        Store Number  County Number      Category  Vendor Number  \\\n",
       "count  269258.000000  269258.000000  2.692580e+05   269258.00000   \n",
       "mean     3587.695311      57.229642  1.043866e+06      256.36045   \n",
       "std       946.505088      27.338810  5.021834e+04      140.98313   \n",
       "min      2106.000000       1.000000  1.011100e+06       10.00000   \n",
       "25%      2604.000000      31.000000  1.012200e+06      115.00000   \n",
       "50%      3721.000000      62.000000  1.031200e+06      260.00000   \n",
       "75%      4376.000000      77.000000  1.062310e+06      380.00000   \n",
       "max      9023.000000      99.000000  1.701100e+06      978.00000   \n",
       "\n",
       "         Item Number  Bottle Volume (ml)  State Bottle Cost  \\\n",
       "count  269258.000000       269258.000000      269258.000000   \n",
       "mean    45944.813164          925.217375           9.763293   \n",
       "std     52557.185155          492.837459           7.039787   \n",
       "min       168.000000           50.000000           0.890000   \n",
       "25%     26827.000000          750.000000           5.500000   \n",
       "50%     38176.000000          750.000000           8.000000   \n",
       "75%     64573.000000         1000.000000          11.920000   \n",
       "max    995507.000000         6000.000000         425.000000   \n",
       "\n",
       "       State Bottle Retail   Bottles Sold  Sale (Dollars)  \\\n",
       "count        269258.000000  269258.000000   269258.000000   \n",
       "mean             14.660848       9.874028      128.828546   \n",
       "std              10.559164      24.072335      383.477046   \n",
       "min               1.340000       1.000000        1.340000   \n",
       "25%               8.250000       2.000000       30.420000   \n",
       "50%              12.110000       6.000000       70.560000   \n",
       "75%              17.880000      12.000000      135.000000   \n",
       "max             637.500000    2508.000000    36392.400000   \n",
       "\n",
       "       Volume Sold (Liters)  Volume Sold (Gallons)  \n",
       "count         269258.000000          269258.000000  \n",
       "mean               8.991069               2.375397  \n",
       "std               28.963204               7.651262  \n",
       "min                0.100000               0.030000  \n",
       "25%                1.500000               0.400000  \n",
       "50%                5.250000               1.390000  \n",
       "75%               10.500000               2.770000  \n",
       "max             2508.000000             662.540000  "
      ]
     },
     "execution_count": 9,
     "metadata": {},
     "output_type": "execute_result"
    }
   ],
   "source": [
    "df.describe()"
   ]
  },
  {
   "cell_type": "code",
   "execution_count": 10,
   "metadata": {
    "collapsed": false
   },
   "outputs": [
    {
     "data": {
      "text/html": [
       "<div>\n",
       "<table border=\"1\" class=\"dataframe\">\n",
       "  <thead>\n",
       "    <tr style=\"text-align: right;\">\n",
       "      <th></th>\n",
       "      <th>Store Number</th>\n",
       "      <th>County Number</th>\n",
       "      <th>Category</th>\n",
       "      <th>Vendor Number</th>\n",
       "      <th>Item Number</th>\n",
       "      <th>Bottle Volume (ml)</th>\n",
       "      <th>State Bottle Cost</th>\n",
       "      <th>State Bottle Retail</th>\n",
       "      <th>Bottles Sold</th>\n",
       "      <th>Sale (Dollars)</th>\n",
       "      <th>Volume Sold (Liters)</th>\n",
       "      <th>Volume Sold (Gallons)</th>\n",
       "    </tr>\n",
       "  </thead>\n",
       "  <tbody>\n",
       "    <tr>\n",
       "      <th>Store Number</th>\n",
       "      <td>1.000000</td>\n",
       "      <td>0.007724</td>\n",
       "      <td>-0.012263</td>\n",
       "      <td>-0.005079</td>\n",
       "      <td>-0.026459</td>\n",
       "      <td>-0.062526</td>\n",
       "      <td>-0.071294</td>\n",
       "      <td>-0.071430</td>\n",
       "      <td>0.014662</td>\n",
       "      <td>-0.017750</td>\n",
       "      <td>-0.017375</td>\n",
       "      <td>-0.017364</td>\n",
       "    </tr>\n",
       "    <tr>\n",
       "      <th>County Number</th>\n",
       "      <td>0.007724</td>\n",
       "      <td>1.000000</td>\n",
       "      <td>-0.006303</td>\n",
       "      <td>0.001717</td>\n",
       "      <td>0.006898</td>\n",
       "      <td>-0.027864</td>\n",
       "      <td>0.012032</td>\n",
       "      <td>0.011958</td>\n",
       "      <td>0.018950</td>\n",
       "      <td>0.019775</td>\n",
       "      <td>0.010185</td>\n",
       "      <td>0.010194</td>\n",
       "    </tr>\n",
       "    <tr>\n",
       "      <th>Category</th>\n",
       "      <td>-0.012263</td>\n",
       "      <td>-0.006303</td>\n",
       "      <td>1.000000</td>\n",
       "      <td>0.091512</td>\n",
       "      <td>0.116619</td>\n",
       "      <td>-0.009055</td>\n",
       "      <td>-0.013571</td>\n",
       "      <td>-0.013758</td>\n",
       "      <td>-0.000080</td>\n",
       "      <td>0.006542</td>\n",
       "      <td>-0.004192</td>\n",
       "      <td>-0.004183</td>\n",
       "    </tr>\n",
       "    <tr>\n",
       "      <th>Vendor Number</th>\n",
       "      <td>-0.005079</td>\n",
       "      <td>0.001717</td>\n",
       "      <td>0.091512</td>\n",
       "      <td>1.000000</td>\n",
       "      <td>0.136183</td>\n",
       "      <td>0.025909</td>\n",
       "      <td>0.003616</td>\n",
       "      <td>0.003223</td>\n",
       "      <td>-0.002303</td>\n",
       "      <td>-0.012361</td>\n",
       "      <td>-0.007254</td>\n",
       "      <td>-0.007250</td>\n",
       "    </tr>\n",
       "    <tr>\n",
       "      <th>Item Number</th>\n",
       "      <td>-0.026459</td>\n",
       "      <td>0.006898</td>\n",
       "      <td>0.116619</td>\n",
       "      <td>0.136183</td>\n",
       "      <td>1.000000</td>\n",
       "      <td>-0.057681</td>\n",
       "      <td>0.096084</td>\n",
       "      <td>0.095815</td>\n",
       "      <td>-0.005021</td>\n",
       "      <td>0.002372</td>\n",
       "      <td>-0.010010</td>\n",
       "      <td>-0.010000</td>\n",
       "    </tr>\n",
       "    <tr>\n",
       "      <th>Bottle Volume (ml)</th>\n",
       "      <td>-0.062526</td>\n",
       "      <td>-0.027864</td>\n",
       "      <td>-0.009055</td>\n",
       "      <td>0.025909</td>\n",
       "      <td>-0.057681</td>\n",
       "      <td>1.000000</td>\n",
       "      <td>0.312930</td>\n",
       "      <td>0.313911</td>\n",
       "      <td>-0.012183</td>\n",
       "      <td>0.082553</td>\n",
       "      <td>0.156141</td>\n",
       "      <td>0.155973</td>\n",
       "    </tr>\n",
       "    <tr>\n",
       "      <th>State Bottle Cost</th>\n",
       "      <td>-0.071294</td>\n",
       "      <td>0.012032</td>\n",
       "      <td>-0.013571</td>\n",
       "      <td>0.003616</td>\n",
       "      <td>0.096084</td>\n",
       "      <td>0.312930</td>\n",
       "      <td>1.000000</td>\n",
       "      <td>0.999960</td>\n",
       "      <td>-0.062832</td>\n",
       "      <td>0.135770</td>\n",
       "      <td>0.009301</td>\n",
       "      <td>0.009270</td>\n",
       "    </tr>\n",
       "    <tr>\n",
       "      <th>State Bottle Retail</th>\n",
       "      <td>-0.071430</td>\n",
       "      <td>0.011958</td>\n",
       "      <td>-0.013758</td>\n",
       "      <td>0.003223</td>\n",
       "      <td>0.095815</td>\n",
       "      <td>0.313911</td>\n",
       "      <td>0.999960</td>\n",
       "      <td>1.000000</td>\n",
       "      <td>-0.062684</td>\n",
       "      <td>0.135954</td>\n",
       "      <td>0.009742</td>\n",
       "      <td>0.009711</td>\n",
       "    </tr>\n",
       "    <tr>\n",
       "      <th>Bottles Sold</th>\n",
       "      <td>0.014662</td>\n",
       "      <td>0.018950</td>\n",
       "      <td>-0.000080</td>\n",
       "      <td>-0.002303</td>\n",
       "      <td>-0.005021</td>\n",
       "      <td>-0.012183</td>\n",
       "      <td>-0.062832</td>\n",
       "      <td>-0.062684</td>\n",
       "      <td>1.000000</td>\n",
       "      <td>0.825912</td>\n",
       "      <td>0.883972</td>\n",
       "      <td>0.884002</td>\n",
       "    </tr>\n",
       "    <tr>\n",
       "      <th>Sale (Dollars)</th>\n",
       "      <td>-0.017750</td>\n",
       "      <td>0.019775</td>\n",
       "      <td>0.006542</td>\n",
       "      <td>-0.012361</td>\n",
       "      <td>0.002372</td>\n",
       "      <td>0.082553</td>\n",
       "      <td>0.135770</td>\n",
       "      <td>0.135954</td>\n",
       "      <td>0.825912</td>\n",
       "      <td>1.000000</td>\n",
       "      <td>0.846373</td>\n",
       "      <td>0.846385</td>\n",
       "    </tr>\n",
       "    <tr>\n",
       "      <th>Volume Sold (Liters)</th>\n",
       "      <td>-0.017375</td>\n",
       "      <td>0.010185</td>\n",
       "      <td>-0.004192</td>\n",
       "      <td>-0.007254</td>\n",
       "      <td>-0.010010</td>\n",
       "      <td>0.156141</td>\n",
       "      <td>0.009301</td>\n",
       "      <td>0.009742</td>\n",
       "      <td>0.883972</td>\n",
       "      <td>0.846373</td>\n",
       "      <td>1.000000</td>\n",
       "      <td>1.000000</td>\n",
       "    </tr>\n",
       "    <tr>\n",
       "      <th>Volume Sold (Gallons)</th>\n",
       "      <td>-0.017364</td>\n",
       "      <td>0.010194</td>\n",
       "      <td>-0.004183</td>\n",
       "      <td>-0.007250</td>\n",
       "      <td>-0.010000</td>\n",
       "      <td>0.155973</td>\n",
       "      <td>0.009270</td>\n",
       "      <td>0.009711</td>\n",
       "      <td>0.884002</td>\n",
       "      <td>0.846385</td>\n",
       "      <td>1.000000</td>\n",
       "      <td>1.000000</td>\n",
       "    </tr>\n",
       "  </tbody>\n",
       "</table>\n",
       "</div>"
      ],
      "text/plain": [
       "                       Store Number  County Number  Category  Vendor Number  \\\n",
       "Store Number               1.000000       0.007724 -0.012263      -0.005079   \n",
       "County Number              0.007724       1.000000 -0.006303       0.001717   \n",
       "Category                  -0.012263      -0.006303  1.000000       0.091512   \n",
       "Vendor Number             -0.005079       0.001717  0.091512       1.000000   \n",
       "Item Number               -0.026459       0.006898  0.116619       0.136183   \n",
       "Bottle Volume (ml)        -0.062526      -0.027864 -0.009055       0.025909   \n",
       "State Bottle Cost         -0.071294       0.012032 -0.013571       0.003616   \n",
       "State Bottle Retail       -0.071430       0.011958 -0.013758       0.003223   \n",
       "Bottles Sold               0.014662       0.018950 -0.000080      -0.002303   \n",
       "Sale (Dollars)            -0.017750       0.019775  0.006542      -0.012361   \n",
       "Volume Sold (Liters)      -0.017375       0.010185 -0.004192      -0.007254   \n",
       "Volume Sold (Gallons)     -0.017364       0.010194 -0.004183      -0.007250   \n",
       "\n",
       "                       Item Number  Bottle Volume (ml)  State Bottle Cost  \\\n",
       "Store Number             -0.026459           -0.062526          -0.071294   \n",
       "County Number             0.006898           -0.027864           0.012032   \n",
       "Category                  0.116619           -0.009055          -0.013571   \n",
       "Vendor Number             0.136183            0.025909           0.003616   \n",
       "Item Number               1.000000           -0.057681           0.096084   \n",
       "Bottle Volume (ml)       -0.057681            1.000000           0.312930   \n",
       "State Bottle Cost         0.096084            0.312930           1.000000   \n",
       "State Bottle Retail       0.095815            0.313911           0.999960   \n",
       "Bottles Sold             -0.005021           -0.012183          -0.062832   \n",
       "Sale (Dollars)            0.002372            0.082553           0.135770   \n",
       "Volume Sold (Liters)     -0.010010            0.156141           0.009301   \n",
       "Volume Sold (Gallons)    -0.010000            0.155973           0.009270   \n",
       "\n",
       "                       State Bottle Retail  Bottles Sold  Sale (Dollars)  \\\n",
       "Store Number                     -0.071430      0.014662       -0.017750   \n",
       "County Number                     0.011958      0.018950        0.019775   \n",
       "Category                         -0.013758     -0.000080        0.006542   \n",
       "Vendor Number                     0.003223     -0.002303       -0.012361   \n",
       "Item Number                       0.095815     -0.005021        0.002372   \n",
       "Bottle Volume (ml)                0.313911     -0.012183        0.082553   \n",
       "State Bottle Cost                 0.999960     -0.062832        0.135770   \n",
       "State Bottle Retail               1.000000     -0.062684        0.135954   \n",
       "Bottles Sold                     -0.062684      1.000000        0.825912   \n",
       "Sale (Dollars)                    0.135954      0.825912        1.000000   \n",
       "Volume Sold (Liters)              0.009742      0.883972        0.846373   \n",
       "Volume Sold (Gallons)             0.009711      0.884002        0.846385   \n",
       "\n",
       "                       Volume Sold (Liters)  Volume Sold (Gallons)  \n",
       "Store Number                      -0.017375              -0.017364  \n",
       "County Number                      0.010185               0.010194  \n",
       "Category                          -0.004192              -0.004183  \n",
       "Vendor Number                     -0.007254              -0.007250  \n",
       "Item Number                       -0.010010              -0.010000  \n",
       "Bottle Volume (ml)                 0.156141               0.155973  \n",
       "State Bottle Cost                  0.009301               0.009270  \n",
       "State Bottle Retail                0.009742               0.009711  \n",
       "Bottles Sold                       0.883972               0.884002  \n",
       "Sale (Dollars)                     0.846373               0.846385  \n",
       "Volume Sold (Liters)               1.000000               1.000000  \n",
       "Volume Sold (Gallons)              1.000000               1.000000  "
      ]
     },
     "execution_count": 10,
     "metadata": {},
     "output_type": "execute_result"
    },
    {
     "data": {
      "image/png": "[encoded data removed]",
      "text/plain": [
       "<matplotlib.figure.Figure at 0x11b400550>"
      ]
     },
     "metadata": {},
     "output_type": "display_data"
    }
   ],
   "source": [
    "plt.figure(1)\n",
    "sns.heatmap(df.corr());\n",
    "df.corr()"
   ]
  },
  {
   "cell_type": "code",
   "execution_count": 11,
   "metadata": {
    "collapsed": false
   },
   "outputs": [
    {
     "data": {
      "image/png": "[encoded data removed]",
      "text/plain": [
       "<matplotlib.figure.Figure at 0x11b84d350>"
      ]
     },
     "metadata": {},
     "output_type": "display_data"
    }
   ],
   "source": [
    "plt.figure(2)\n",
    "sns.distplot(df['Sale (Dollars)'],bins=5);"
   ]
  },
  {
   "cell_type": "code",
   "execution_count": 12,
   "metadata": {
    "collapsed": false
   },
   "outputs": [
    {
     "data": {
      "image/png": "[encoded data removed]",
      "text/plain": [
       "<matplotlib.figure.Figure at 0x11b6d9fd0>"
      ]
     },
     "metadata": {},
     "output_type": "display_data"
    }
   ],
   "source": [
    "plt.figure(3)\n",
    "sns.distplot(df['Bottles Sold'],bins=5);"
   ]
  },
  {
   "cell_type": "markdown",
   "metadata": {},
   "source": [
    "## Record your findings\n",
    "\n",
    "Be sure to write out anything observations from your exploratory analysis."
   ]
  },
  {
   "cell_type": "markdown",
   "metadata": {},
   "source": [
    "Initial explorations of the 10% of the DataSet revealed the necessity to massage the data. First the data set contains 270955 rows and 18 columns. Most of the columns are integers while there are some which are categorical, aprevious tranformation we changed the Sales from an object type to a float64 type. This will allow us to do math with the numbers. One interesting aspect of the data set is that it contains several values that could be considered outliers. For example there is a single transaction that reached $30,000. For the purpose of this project I will not do anything about these outliers."
   ]
  },
  {
   "cell_type": "markdown",
   "metadata": {},
   "source": [
    "# Mine the data\n",
    "Now you are ready to compute the variables you will use for your regression from the data. For example, you may want to\n",
    "compute total sales per store from Jan to March of 2015, mean price per bottle, etc. Refer to the readme for more ideas appropriate to your scenario.\n",
    "\n",
    "Pandas is your friend for this task. Take a look at the operations [here](http://pandas.pydata.org/pandas-docs/stable/groupby.html) for ideas on how to make the best use of pandas and feel free to search for blog and Stack Overflow posts to help you group data by certain variables and compute sums, means, etc. You may find it useful to create a new data frame to house this summary data."
   ]
  },
  {
   "cell_type": "code",
   "execution_count": 13,
   "metadata": {
    "collapsed": false
   },
   "outputs": [
    {
     "data": {
      "text/html": [
       "<div>\n",
       "<table border=\"1\" class=\"dataframe\">\n",
       "  <thead>\n",
       "    <tr style=\"text-align: right;\">\n",
       "      <th></th>\n",
       "      <th>Date</th>\n",
       "      <th>Store Number</th>\n",
       "      <th>City</th>\n",
       "      <th>Zip Code</th>\n",
       "      <th>County Number</th>\n",
       "      <th>Sale (Dollars)</th>\n",
       "      <th>Volume Sold (Liters)</th>\n",
       "      <th>Margin</th>\n",
       "      <th>Margin per Liter</th>\n",
       "    </tr>\n",
       "  </thead>\n",
       "  <tbody>\n",
       "    <tr>\n",
       "      <th>0</th>\n",
       "      <td>2015-11-04</td>\n",
       "      <td>3717</td>\n",
       "      <td>SUMNER</td>\n",
       "      <td>50674</td>\n",
       "      <td>9.0</td>\n",
       "      <td>81.00</td>\n",
       "      <td>9.0</td>\n",
       "      <td>2.25</td>\n",
       "      <td>0.250000</td>\n",
       "    </tr>\n",
       "    <tr>\n",
       "      <th>1</th>\n",
       "      <td>2016-03-02</td>\n",
       "      <td>2614</td>\n",
       "      <td>DAVENPORT</td>\n",
       "      <td>52807</td>\n",
       "      <td>82.0</td>\n",
       "      <td>41.26</td>\n",
       "      <td>1.5</td>\n",
       "      <td>6.88</td>\n",
       "      <td>4.586667</td>\n",
       "    </tr>\n",
       "    <tr>\n",
       "      <th>2</th>\n",
       "      <td>2016-02-11</td>\n",
       "      <td>2106</td>\n",
       "      <td>CEDAR FALLS</td>\n",
       "      <td>50613</td>\n",
       "      <td>7.0</td>\n",
       "      <td>453.36</td>\n",
       "      <td>24.0</td>\n",
       "      <td>6.30</td>\n",
       "      <td>0.262500</td>\n",
       "    </tr>\n",
       "    <tr>\n",
       "      <th>3</th>\n",
       "      <td>2016-02-03</td>\n",
       "      <td>2501</td>\n",
       "      <td>AMES</td>\n",
       "      <td>50010</td>\n",
       "      <td>85.0</td>\n",
       "      <td>85.50</td>\n",
       "      <td>10.5</td>\n",
       "      <td>4.75</td>\n",
       "      <td>0.452381</td>\n",
       "    </tr>\n",
       "    <tr>\n",
       "      <th>4</th>\n",
       "      <td>2015-08-18</td>\n",
       "      <td>3654</td>\n",
       "      <td>BELMOND</td>\n",
       "      <td>50421</td>\n",
       "      <td>99.0</td>\n",
       "      <td>129.60</td>\n",
       "      <td>21.0</td>\n",
       "      <td>3.60</td>\n",
       "      <td>0.171429</td>\n",
       "    </tr>\n",
       "  </tbody>\n",
       "</table>\n",
       "</div>"
      ],
      "text/plain": [
       "        Date  Store Number         City Zip Code  County Number  \\\n",
       "0 2015-11-04          3717       SUMNER    50674            9.0   \n",
       "1 2016-03-02          2614    DAVENPORT    52807           82.0   \n",
       "2 2016-02-11          2106  CEDAR FALLS    50613            7.0   \n",
       "3 2016-02-03          2501         AMES    50010           85.0   \n",
       "4 2015-08-18          3654      BELMOND    50421           99.0   \n",
       "\n",
       "   Sale (Dollars)  Volume Sold (Liters)  Margin  Margin per Liter  \n",
       "0           81.00                   9.0    2.25          0.250000  \n",
       "1           41.26                   1.5    6.88          4.586667  \n",
       "2          453.36                  24.0    6.30          0.262500  \n",
       "3           85.50                  10.5    4.75          0.452381  \n",
       "4          129.60                  21.0    3.60          0.171429  "
      ]
     },
     "execution_count": 13,
     "metadata": {},
     "output_type": "execute_result"
    }
   ],
   "source": [
    "df['Margin']=df[\"State Bottle Retail\"]-df['State Bottle Cost']\n",
    "\n",
    "df['Margin per Liter']=df['Margin']/df['Volume Sold (Liters)']\n",
    "\n",
    "df = df.drop([u'County', u'Category',u'Volume Sold (Gallons)',u'State Bottle Cost', u'State Bottle Retail', u'Bottles Sold', u'Category Name',u'Bottle Volume (ml)', u'Vendor Number',\n",
    "       u'Item Number', u'Item Description'],axis=1)\n",
    "\n",
    "df.head()"
   ]
  },
  {
   "cell_type": "code",
   "execution_count": 14,
   "metadata": {
    "collapsed": false
   },
   "outputs": [
    {
     "data": {
      "text/html": [
       "<div>\n",
       "<table border=\"1\" class=\"dataframe\">\n",
       "  <thead>\n",
       "    <tr style=\"text-align: right;\">\n",
       "      <th></th>\n",
       "      <th>Store Number</th>\n",
       "      <th>City</th>\n",
       "      <th>Sales</th>\n",
       "      <th>Ave. Sale Price</th>\n",
       "      <th>County Number</th>\n",
       "      <th>Zip Code</th>\n",
       "      <th>Ave. Margin per Liter</th>\n",
       "      <th>Volume Sold(L)</th>\n",
       "      <th>Ave. Volume sold(L)</th>\n",
       "      <th>Margin</th>\n",
       "    </tr>\n",
       "  </thead>\n",
       "  <tbody>\n",
       "    <tr>\n",
       "      <th>0</th>\n",
       "      <td>2106</td>\n",
       "      <td>CEDAR FALLS</td>\n",
       "      <td>146038.70</td>\n",
       "      <td>277.640114</td>\n",
       "      <td>7.0</td>\n",
       "      <td>50613</td>\n",
       "      <td>0.932003</td>\n",
       "      <td>9719.85</td>\n",
       "      <td>18.478802</td>\n",
       "      <td>5.160951</td>\n",
       "    </tr>\n",
       "    <tr>\n",
       "      <th>1</th>\n",
       "      <td>2113</td>\n",
       "      <td>GOWRIE</td>\n",
       "      <td>9310.22</td>\n",
       "      <td>63.334830</td>\n",
       "      <td>94.0</td>\n",
       "      <td>50543</td>\n",
       "      <td>3.349160</td>\n",
       "      <td>659.85</td>\n",
       "      <td>4.488776</td>\n",
       "      <td>5.445102</td>\n",
       "    </tr>\n",
       "    <tr>\n",
       "      <th>2</th>\n",
       "      <td>2130</td>\n",
       "      <td>WATERLOO</td>\n",
       "      <td>111583.91</td>\n",
       "      <td>285.380844</td>\n",
       "      <td>7.0</td>\n",
       "      <td>50703</td>\n",
       "      <td>0.595482</td>\n",
       "      <td>6879.37</td>\n",
       "      <td>17.594297</td>\n",
       "      <td>4.918005</td>\n",
       "    </tr>\n",
       "    <tr>\n",
       "      <th>3</th>\n",
       "      <td>2152</td>\n",
       "      <td>ROCKWELL</td>\n",
       "      <td>7721.08</td>\n",
       "      <td>54.759433</td>\n",
       "      <td>17.0</td>\n",
       "      <td>50469</td>\n",
       "      <td>2.433972</td>\n",
       "      <td>633.37</td>\n",
       "      <td>4.491986</td>\n",
       "      <td>4.322624</td>\n",
       "    </tr>\n",
       "    <tr>\n",
       "      <th>4</th>\n",
       "      <td>2178</td>\n",
       "      <td>WAUKON</td>\n",
       "      <td>24324.18</td>\n",
       "      <td>102.633671</td>\n",
       "      <td>3.0</td>\n",
       "      <td>52172</td>\n",
       "      <td>2.335445</td>\n",
       "      <td>1917.12</td>\n",
       "      <td>8.089114</td>\n",
       "      <td>4.868861</td>\n",
       "    </tr>\n",
       "  </tbody>\n",
       "</table>\n",
       "</div>"
      ],
      "text/plain": [
       "   Store Number         City      Sales  Ave. Sale Price  County Number  \\\n",
       "0          2106  CEDAR FALLS  146038.70       277.640114            7.0   \n",
       "1          2113       GOWRIE    9310.22        63.334830           94.0   \n",
       "2          2130     WATERLOO  111583.91       285.380844            7.0   \n",
       "3          2152     ROCKWELL    7721.08        54.759433           17.0   \n",
       "4          2178       WAUKON   24324.18       102.633671            3.0   \n",
       "\n",
       "  Zip Code  Ave. Margin per Liter  Volume Sold(L)  Ave. Volume sold(L)  \\\n",
       "0    50613               0.932003         9719.85            18.478802   \n",
       "1    50543               3.349160          659.85             4.488776   \n",
       "2    50703               0.595482         6879.37            17.594297   \n",
       "3    50469               2.433972          633.37             4.491986   \n",
       "4    52172               2.335445         1917.12             8.089114   \n",
       "\n",
       "     Margin  \n",
       "0  5.160951  \n",
       "1  5.445102  \n",
       "2  4.918005  \n",
       "3  4.322624  \n",
       "4  4.868861  "
      ]
     },
     "execution_count": 14,
     "metadata": {},
     "output_type": "execute_result"
    }
   ],
   "source": [
    "#Total 2015 Sales\n",
    "df.sort_values(by=[\"Store Number\", \"Date\"], inplace=True)\n",
    "start_date = pd.Timestamp(\"20150101\")\n",
    "end_date = pd.Timestamp(\"20151231\")\n",
    "mask = (df['Date'] >= start_date) & (df['Date'] <= end_date)\n",
    "df2015 = df[mask]\n",
    "\n",
    "# Group by store name\n",
    "df2015 = df2015.groupby(by=[\"Store Number\"], as_index=False)\n",
    "# Compute sums, means\n",
    "df2015 = df2015.agg({\"Sale (Dollars)\": [np.sum, np.mean],\n",
    "                   \"Volume Sold (Liters)\": [np.sum, np.mean],\n",
    "                   \"Margin\": np.mean,\n",
    "                   \"Margin per Liter\": np.mean,\n",
    "                   \"Zip Code\": lambda x: x.iloc[0], # just extract once, should be the same\n",
    "                   \"City\": lambda x: x.iloc[0],\n",
    "                   \"County Number\": lambda x: x.iloc[0]})\n",
    "\n",
    "# Collapse the column indices\n",
    "df2015.columns = [' '.join(col).strip() for col in df2015.columns.values]\n",
    "#Rename Columns\n",
    "df2015.columns = ['Store Number', 'City','Sales','Ave. Sale Price',\n",
    "              'County Number','Zip Code','Ave. Margin per Liter','Volume Sold(L)',\n",
    "              'Ave. Volume sold(L)','Margin']\n",
    "df2015.head()"
   ]
  },
  {
   "cell_type": "code",
   "execution_count": 15,
   "metadata": {
    "collapsed": false
   },
   "outputs": [
    {
     "data": {
      "text/html": [
       "<div>\n",
       "<table border=\"1\" class=\"dataframe\">\n",
       "  <thead>\n",
       "    <tr style=\"text-align: right;\">\n",
       "      <th></th>\n",
       "      <th>Store Number</th>\n",
       "      <th>Q1 Sales</th>\n",
       "    </tr>\n",
       "  </thead>\n",
       "  <tbody>\n",
       "    <tr>\n",
       "      <th>0</th>\n",
       "      <td>2106</td>\n",
       "      <td>39287.29</td>\n",
       "    </tr>\n",
       "    <tr>\n",
       "      <th>1</th>\n",
       "      <td>2113</td>\n",
       "      <td>2833.25</td>\n",
       "    </tr>\n",
       "    <tr>\n",
       "      <th>2</th>\n",
       "      <td>2130</td>\n",
       "      <td>24272.57</td>\n",
       "    </tr>\n",
       "    <tr>\n",
       "      <th>3</th>\n",
       "      <td>2152</td>\n",
       "      <td>2003.46</td>\n",
       "    </tr>\n",
       "    <tr>\n",
       "      <th>4</th>\n",
       "      <td>2178</td>\n",
       "      <td>5856.41</td>\n",
       "    </tr>\n",
       "  </tbody>\n",
       "</table>\n",
       "</div>"
      ],
      "text/plain": [
       "   Store Number  Q1 Sales\n",
       "0          2106  39287.29\n",
       "1          2113   2833.25\n",
       "2          2130  24272.57\n",
       "3          2152   2003.46\n",
       "4          2178   5856.41"
      ]
     },
     "execution_count": 15,
     "metadata": {},
     "output_type": "execute_result"
    }
   ],
   "source": [
    "# Quarter 1 Sales\n",
    "# Filter by our start and end dates\n",
    "df.sort_values(by=[\"Store Number\", \"Date\"], inplace=True)\n",
    "start_date = pd.Timestamp(\"20150101\")\n",
    "end_date = pd.Timestamp(\"20150331\")\n",
    "mask = (df['Date'] >= start_date) & (df['Date'] <= end_date)\n",
    "q1 = df[mask]\n",
    "#Drop Repeated Columns leave Store Number to later Join to 2015\n",
    "q1 = q1.drop([u'Date', 'City', 'Zip Code','County Number',\n",
    "              'Volume Sold (Liters)','Margin','Margin per Liter' ],axis=1)\n",
    "# Group Q1 by store name\n",
    "q1 = q1.groupby(by=[\"Store Number\"], as_index=False)\n",
    "# Compute sum\n",
    "q1 = q1.agg({\"Sale (Dollars)\": [np.sum]})\n",
    "# Collapse the column indices\n",
    "q1.columns = [' '.join(col).strip() for col in q1.columns.values]\n",
    "# Rename columns\n",
    "q1.columns = ['Store Number','Q1 Sales']\n",
    "# Quick check\n",
    "q1.head()"
   ]
  },
  {
   "cell_type": "code",
   "execution_count": 16,
   "metadata": {
    "collapsed": false
   },
   "outputs": [],
   "source": [
    "#Merging Q1 Sales to Total 2015 Data\n",
    "df2015a = pd.merge(df2015, q1, how='left', on=['Store Number'])"
   ]
  },
  {
   "cell_type": "code",
   "execution_count": 17,
   "metadata": {
    "collapsed": false,
    "scrolled": true
   },
   "outputs": [
    {
     "data": {
      "text/plain": [
       "Store Number             1261\n",
       "City                     1261\n",
       "Sales                    1261\n",
       "Ave. Sale Price          1261\n",
       "County Number            1261\n",
       "Zip Code                 1261\n",
       "Ave. Margin per Liter    1261\n",
       "Volume Sold(L)           1261\n",
       "Ave. Volume sold(L)      1261\n",
       "Margin                   1261\n",
       "Q1 Sales                 1261\n",
       "dtype: int64"
      ]
     },
     "execution_count": 17,
     "metadata": {},
     "output_type": "execute_result"
    }
   ],
   "source": [
    "#Checking for Null Values in our new data frame we found some stores that probably opened\n",
    "#during 2015 so the best thing to do is to drop them.\n",
    "\n",
    "df2015a=df2015a.dropna()\n",
    "df2015a.count()"
   ]
  },
  {
   "cell_type": "markdown",
   "metadata": {},
   "source": [
    "# Refine the data\n",
    "Look for any statistical relationships, correlations, or other relevant properties of the dataset."
   ]
  },
  {
   "cell_type": "code",
   "execution_count": 18,
   "metadata": {
    "collapsed": false
   },
   "outputs": [
    {
     "data": {
      "text/plain": [
       "<matplotlib.axes._subplots.AxesSubplot at 0x1173e3550>"
      ]
     },
     "execution_count": 18,
     "metadata": {},
     "output_type": "execute_result"
    },
    {
     "data": {
      "image/png": "[encoded data removed]",
      "text/plain": [
       "<matplotlib.figure.Figure at 0x1173e36d0>"
      ]
     },
     "metadata": {},
     "output_type": "display_data"
    }
   ],
   "source": [
    "sns.heatmap(df2015a.corr())"
   ]
  },
  {
   "cell_type": "code",
   "execution_count": 19,
   "metadata": {
    "collapsed": false
   },
   "outputs": [
    {
     "data": {
      "text/plain": [
       "<matplotlib.axes._subplots.AxesSubplot at 0x11881aa50>"
      ]
     },
     "execution_count": 19,
     "metadata": {},
     "output_type": "execute_result"
    },
    {
     "data": {
      "image/png": "[encoded data removed]",
      "text/plain": [
       "<matplotlib.figure.Figure at 0x117feb550>"
      ]
     },
     "metadata": {},
     "output_type": "display_data"
    }
   ],
   "source": [
    "fig, axs = plt.subplots(3, 2, sharey=True, figsize= (16,20))\n",
    "df2015a.plot.scatter(x= 'Ave. Sale Price', y= \"Sales\", ax=axs[0,0])\n",
    "df2015a.plot.scatter(x= 'Ave. Margin per Liter', y= \"Sales\", ax=axs[0,1])\n",
    "df2015a.plot.scatter(x= 'Volume Sold(L)', y= \"Sales\", ax=axs[1,0])\n",
    "df2015a.plot.scatter(x= 'Ave. Volume sold(L)', y= \"Sales\", ax=axs[1,1])\n",
    "df2015a.plot.scatter(x= 'Margin', y= \"Sales\", ax=axs[2,0])\n",
    "df2015a.plot.scatter(x= 'Q1 Sales', y= \"Sales\", ax=axs[2,1])"
   ]
  },
  {
   "cell_type": "markdown",
   "metadata": {},
   "source": [
    "# Build your models\n",
    "\n",
    "Using scikit-learn or statsmodels, build the necessary models for your scenario. Evaluate model fit."
   ]
  },
  {
   "cell_type": "code",
   "execution_count": 22,
   "metadata": {
    "collapsed": false
   },
   "outputs": [
    {
     "data": {
      "image/png": "[encoded data removed]",
      "text/plain": [
       "<matplotlib.figure.Figure at 0x119401110>"
      ]
     },
     "metadata": {},
     "output_type": "display_data"
    }
   ],
   "source": [
    "#Using sklearn Linear Model\n",
    "from sklearn import linear_model\n",
    "#Defining our dependent y15 variable and our independent variables X15\n",
    "y15=df2015a['Sales']\n",
    "X15=df2015a[['Q1 Sales','Volume Sold(L)']]\n",
    "#Calling, fitting and predicting\n",
    "lm= linear_model.LinearRegression()\n",
    "model=lm.fit(X15,y15)\n",
    "predictions15 = lm.predict(X15)\n",
    "#Plotting out predictions\n",
    "plt.scatter(predictions15, y15, s=30, c='r', marker='+', zorder=10)\n",
    "plt.xlabel(\"Predicted Values\")\n",
    "plt.ylabel(\"Actual\")\n",
    "\n",
    "plt.show()"
   ]
  },
  {
   "cell_type": "code",
   "execution_count": 51,
   "metadata": {
    "collapsed": false
   },
   "outputs": [
    {
     "name": "stdout",
     "output_type": "stream",
     "text": [
      "Cross-validated scores: [ 0.98776268  0.98107776  0.93165175  0.94307753  0.99092443  0.95373004]\n",
      "Cross-Predicted Accuracy: 0.988138094405\n"
     ]
    },
    {
     "data": {
      "image/png": "[encoded data removed]",
      "text/plain": [
       "<matplotlib.figure.Figure at 0x11bd6f410>"
      ]
     },
     "metadata": {},
     "output_type": "display_data"
    }
   ],
   "source": [
    "from sklearn.cross_validation import cross_val_score, cross_val_predict\n",
    "from sklearn import metrics\n",
    "\n",
    "# Perform 6-fold cross validation\n",
    "scores = cross_val_score(model, df2015a[['Q1 Sales','Volume Sold(L)']], y15, cv=6)\n",
    "print \"Cross-validated scores:\", scores\n",
    "# Make cross validated predictions\n",
    "predictions = cross_val_predict(model,df2015a[['Q1 Sales','Volume Sold(L)']], y15, cv=6)\n",
    "plt.scatter(y15, predictions)\n",
    "accuracy = metrics.r2_score(y15, predictions)\n",
    "print \"Cross-Predicted Accuracy:\", accuracy\n"
   ]
  },
  {
   "cell_type": "code",
   "execution_count": 24,
   "metadata": {
    "collapsed": false
   },
   "outputs": [
    {
     "data": {
      "text/html": [
       "<table class=\"simpletable\">\n",
       "<caption>OLS Regression Results</caption>\n",
       "<tr>\n",
       "  <th>Dep. Variable:</th>           <td>y15</td>       <th>  R-squared:         </th> <td>   0.990</td> \n",
       "</tr>\n",
       "<tr>\n",
       "  <th>Model:</th>                   <td>OLS</td>       <th>  Adj. R-squared:    </th> <td>   0.990</td> \n",
       "</tr>\n",
       "<tr>\n",
       "  <th>Method:</th>             <td>Least Squares</td>  <th>  F-statistic:       </th> <td>6.031e+04</td>\n",
       "</tr>\n",
       "<tr>\n",
       "  <th>Date:</th>             <td>Fri, 24 Jun 2016</td> <th>  Prob (F-statistic):</th>  <td>  0.00</td>  \n",
       "</tr>\n",
       "<tr>\n",
       "  <th>Time:</th>                 <td>09:29:52</td>     <th>  Log-Likelihood:    </th> <td> -12613.</td> \n",
       "</tr>\n",
       "<tr>\n",
       "  <th>No. Observations:</th>      <td>  1261</td>      <th>  AIC:               </th> <td>2.523e+04</td>\n",
       "</tr>\n",
       "<tr>\n",
       "  <th>Df Residuals:</th>          <td>  1258</td>      <th>  BIC:               </th> <td>2.525e+04</td>\n",
       "</tr>\n",
       "<tr>\n",
       "  <th>Df Model:</th>              <td>     2</td>      <th>                     </th>     <td> </td>    \n",
       "</tr>\n",
       "<tr>\n",
       "  <th>Covariance Type:</th>      <td>nonrobust</td>    <th>                     </th>     <td> </td>    \n",
       "</tr>\n",
       "</table>\n",
       "<table class=\"simpletable\">\n",
       "<tr>\n",
       "      <td></td>         <th>coef</th>     <th>std err</th>      <th>t</th>      <th>P>|t|</th> <th>[95.0% Conf. Int.]</th> \n",
       "</tr>\n",
       "<tr>\n",
       "  <th>Intercept</th> <td>-1604.5789</td> <td>  166.856</td> <td>   -9.617</td> <td> 0.000</td> <td>-1931.925 -1277.232</td>\n",
       "</tr>\n",
       "<tr>\n",
       "  <th>X15[0]</th>    <td>    1.3627</td> <td>    0.056</td> <td>   24.263</td> <td> 0.000</td> <td>    1.253     1.473</td>\n",
       "</tr>\n",
       "<tr>\n",
       "  <th>X15[1]</th>    <td>   11.0754</td> <td>    0.195</td> <td>   56.790</td> <td> 0.000</td> <td>   10.693    11.458</td>\n",
       "</tr>\n",
       "</table>\n",
       "<table class=\"simpletable\">\n",
       "<tr>\n",
       "  <th>Omnibus:</th>       <td>367.152</td> <th>  Durbin-Watson:     </th> <td>   1.781</td> \n",
       "</tr>\n",
       "<tr>\n",
       "  <th>Prob(Omnibus):</th> <td> 0.000</td>  <th>  Jarque-Bera (JB):  </th> <td>40150.869</td>\n",
       "</tr>\n",
       "<tr>\n",
       "  <th>Skew:</th>          <td> 0.027</td>  <th>  Prob(JB):          </th> <td>    0.00</td> \n",
       "</tr>\n",
       "<tr>\n",
       "  <th>Kurtosis:</th>      <td>30.644</td>  <th>  Cond. No.          </th> <td>1.45e+04</td> \n",
       "</tr>\n",
       "</table>"
      ],
      "text/plain": [
       "<class 'statsmodels.iolib.summary.Summary'>\n",
       "\"\"\"\n",
       "                            OLS Regression Results                            \n",
       "==============================================================================\n",
       "Dep. Variable:                    y15   R-squared:                       0.990\n",
       "Model:                            OLS   Adj. R-squared:                  0.990\n",
       "Method:                 Least Squares   F-statistic:                 6.031e+04\n",
       "Date:                Fri, 24 Jun 2016   Prob (F-statistic):               0.00\n",
       "Time:                        09:29:52   Log-Likelihood:                -12613.\n",
       "No. Observations:                1261   AIC:                         2.523e+04\n",
       "Df Residuals:                    1258   BIC:                         2.525e+04\n",
       "Df Model:                           2                                         \n",
       "Covariance Type:            nonrobust                                         \n",
       "==============================================================================\n",
       "                 coef    std err          t      P>|t|      [95.0% Conf. Int.]\n",
       "------------------------------------------------------------------------------\n",
       "Intercept  -1604.5789    166.856     -9.617      0.000     -1931.925 -1277.232\n",
       "X15[0]         1.3627      0.056     24.263      0.000         1.253     1.473\n",
       "X15[1]        11.0754      0.195     56.790      0.000        10.693    11.458\n",
       "==============================================================================\n",
       "Omnibus:                      367.152   Durbin-Watson:                   1.781\n",
       "Prob(Omnibus):                  0.000   Jarque-Bera (JB):            40150.869\n",
       "Skew:                           0.027   Prob(JB):                         0.00\n",
       "Kurtosis:                      30.644   Cond. No.                     1.45e+04\n",
       "==============================================================================\n",
       "\n",
       "Warnings:\n",
       "[1] Standard Errors assume that the covariance matrix of the errors is correctly specified.\n",
       "[2] The condition number is large, 1.45e+04. This might indicate that there are\n",
       "strong multicollinearity or other numerical problems.\n",
       "\"\"\""
      ]
     },
     "execution_count": 24,
     "metadata": {},
     "output_type": "execute_result"
    }
   ],
   "source": [
    "#Using Stats Model\n",
    "import statsmodels.formula.api as smf\n",
    "\n",
    "#formula = 'outcome ~ predictor1 + predictor2 ... predictor \n",
    "lm1 = smf.ols(formula='y15 ~ X15', data=df2015a).fit()\n",
    "\n",
    "#print the full summary\n",
    "lm1.summary()"
   ]
  },
  {
   "cell_type": "markdown",
   "metadata": {},
   "source": [
    "Our R^2 Value is quite good, according to this model, we should be able to predict 2016 sales based on q1 sales."
   ]
  },
  {
   "cell_type": "code",
   "execution_count": 25,
   "metadata": {
    "collapsed": false
   },
   "outputs": [
    {
     "data": {
      "text/html": [
       "<div>\n",
       "<table border=\"1\" class=\"dataframe\">\n",
       "  <thead>\n",
       "    <tr style=\"text-align: right;\">\n",
       "      <th></th>\n",
       "      <th>Store Number</th>\n",
       "      <th>Q1 Sales</th>\n",
       "      <th>Volume Sold (Liters)</th>\n",
       "    </tr>\n",
       "  </thead>\n",
       "  <tbody>\n",
       "    <tr>\n",
       "      <th>0</th>\n",
       "      <td>2106</td>\n",
       "      <td>30478.75</td>\n",
       "      <td>2116.25</td>\n",
       "    </tr>\n",
       "    <tr>\n",
       "      <th>1</th>\n",
       "      <td>2113</td>\n",
       "      <td>2065.90</td>\n",
       "      <td>177.00</td>\n",
       "    </tr>\n",
       "    <tr>\n",
       "      <th>2</th>\n",
       "      <td>2130</td>\n",
       "      <td>27856.11</td>\n",
       "      <td>1556.90</td>\n",
       "    </tr>\n",
       "    <tr>\n",
       "      <th>3</th>\n",
       "      <td>2152</td>\n",
       "      <td>904.66</td>\n",
       "      <td>87.50</td>\n",
       "    </tr>\n",
       "    <tr>\n",
       "      <th>4</th>\n",
       "      <td>2178</td>\n",
       "      <td>5588.50</td>\n",
       "      <td>520.80</td>\n",
       "    </tr>\n",
       "  </tbody>\n",
       "</table>\n",
       "</div>"
      ],
      "text/plain": [
       "   Store Number  Q1 Sales  Volume Sold (Liters)\n",
       "0          2106  30478.75               2116.25\n",
       "1          2113   2065.90                177.00\n",
       "2          2130  27856.11               1556.90\n",
       "3          2152    904.66                 87.50\n",
       "4          2178   5588.50                520.80"
      ]
     },
     "execution_count": 25,
     "metadata": {},
     "output_type": "execute_result"
    }
   ],
   "source": [
    "# 2016 Quarter 1 Sales\n",
    "# Filter by our start and end dates\n",
    "df.sort_values(by=[\"Store Number\", \"Date\"], inplace=True)\n",
    "start_date = pd.Timestamp(\"20160101\")\n",
    "end_date = pd.Timestamp(\"20160331\")\n",
    "mask = (df['Date'] >= start_date) & (df['Date'] <= end_date)\n",
    "df2016q1 = df[mask]\n",
    "\n",
    "#Drop unwanted columns\n",
    "df2016q1 = df2016q1.drop([u'Date', 'City', 'Zip Code','County Number',\n",
    "              'Margin','Margin per Liter' ],axis=1)\n",
    "\n",
    "# Group Q1 by store name\n",
    "df2016q1 = df2016q1.groupby(by=[\"Store Number\"], as_index=False)\n",
    "\n",
    "# Compute sum\n",
    "df2016q1 = df2016q1.agg({\"Sale (Dollars)\": [np.sum],\n",
    "            'Volume Sold (Liters)':[np.sum]})\n",
    "# Collapse the column indices\n",
    "df2016q1.columns = [' '.join(col).strip() for col in df2016q1.columns.values]\n",
    "# Rename columns\n",
    "df2016q1.columns = ['Store Number','Q1 Sales','Volume Sold (Liters)']\n",
    "# Quick check\n",
    "df2016q1.head()"
   ]
  },
  {
   "cell_type": "markdown",
   "metadata": {},
   "source": [
    "# Present the Results\n",
    "\n",
    "Present your conclusions and results. If you have more than one interesting model feel free to include more than one along with a discussion. Use your work in this notebook to prepare your write-up."
   ]
  },
  {
   "cell_type": "code",
   "execution_count": 33,
   "metadata": {
    "collapsed": false
   },
   "outputs": [
    {
     "name": "stdout",
     "output_type": "stream",
     "text": [
      "The Total sales for 2015: $28478661\n",
      "The Projected Sales for 2016: $27816516\n"
     ]
    }
   ],
   "source": [
    "#Here we used a model created to predict 2016 sales using Q1 Data\n",
    "\n",
    "X16=df2015a[['Q1 Sales','Volume Sold(L)']]\n",
    "predictions16 = lm.predict(X16)\n",
    "predictions16b = lm1.predict(X16)\n",
    "\n",
    "Sales2016=sum(predictions16)\n",
    "Sales2015=df2015['Sales'].sum()\n",
    "\n",
    "print 'The Total sales for 2015: $%d' %Sales2015\n",
    "print \"The Projected Sales for 2016: $%d\" %Sales2016\n",
    "\n"
   ]
  },
  {
   "cell_type": "code",
   "execution_count": 46,
   "metadata": {
    "collapsed": false
   },
   "outputs": [
    {
     "name": "stdout",
     "output_type": "stream",
     "text": [
      "Accroding to the model and using the Q1 data for 2016 sales are projected to decrease by: \n",
      " 2 percent\n"
     ]
    }
   ],
   "source": [
    "change= (Sales2016-Sales2015)/Sales2015*100\n",
    "print 'Accroding to the model and using the Q1 data for 2016 sales are projected to decrease by: \\n %d percent'% abs(change)"
   ]
  }
 ],
 "metadata": {
  "kernelspec": {
   "display_name": "Python 2",
   "language": "python",
   "name": "python2"
  },
  "language_info": {
   "codemirror_mode": {
    "name": "ipython",
    "version": 2
   },
   "file_extension": ".py",
   "mimetype": "text/x-python",
   "name": "python",
   "nbconvert_exporter": "python",
   "pygments_lexer": "ipython2",
   "version": "2.7.12"
  }
 },
 "nbformat": 4,
 "nbformat_minor": 0
}
